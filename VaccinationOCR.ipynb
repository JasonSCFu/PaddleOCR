{
 "cells": [
  {
   "cell_type": "code",
   "execution_count": 197,
   "id": "5ffd3554",
   "metadata": {},
   "outputs": [],
   "source": [
    "from PIL import Image\n",
    "from paddleocr import PaddleOCR,draw_ocr\n",
    "import os\n",
    "import glob\n",
    "import pandas as pd"
   ]
  },
  {
   "cell_type": "code",
   "execution_count": 45,
   "id": "824d5a62",
   "metadata": {},
   "outputs": [],
   "source": [
    "image_list = []\n",
    "for filename in glob.glob(\"C:/Users/Jason/Desktop/PaddleOCR-release-2.4/doc/imgs/vaccination_samples/*.jpg\"):\n",
    "    im = Image.open(filename)\n",
    "    image_list.append(im)\n",
    "    "
   ]
  },
  {
   "cell_type": "code",
   "execution_count": 198,
   "id": "775cc791",
   "metadata": {
    "scrolled": false
   },
   "outputs": [
    {
     "name": "stdout",
     "output_type": "stream",
     "text": [
      "[2022/02/17 16:22:51] root DEBUG: dt_boxes num : 23, elapse : 0.3054084777832031\n",
      "[2022/02/17 16:22:51] root DEBUG: cls num  : 23, elapse : 0.322695255279541\n",
      "[2022/02/17 16:22:53] root DEBUG: rec_res num  : 23, elapse : 1.6350700855255127\n",
      "[2022/02/17 16:22:54] root DEBUG: dt_boxes num : 15, elapse : 0.14244818687438965\n",
      "[2022/02/17 16:22:54] root DEBUG: cls num  : 15, elapse : 0.1996927261352539\n",
      "[2022/02/17 16:22:55] root DEBUG: rec_res num  : 15, elapse : 1.1136455535888672\n",
      "[2022/02/17 16:22:55] root DEBUG: dt_boxes num : 24, elapse : 0.3152801990509033\n",
      "[2022/02/17 16:22:56] root DEBUG: cls num  : 24, elapse : 0.33806419372558594\n",
      "[2022/02/17 16:22:57] root DEBUG: rec_res num  : 24, elapse : 1.6902556419372559\n",
      "[2022/02/17 16:22:57] root DEBUG: dt_boxes num : 16, elapse : 0.17444562911987305\n",
      "[2022/02/17 16:22:58] root DEBUG: cls num  : 16, elapse : 0.20874309539794922\n",
      "[2022/02/17 16:22:59] root DEBUG: rec_res num  : 16, elapse : 1.2234373092651367\n",
      "[2022/02/17 16:22:59] root DEBUG: dt_boxes num : 22, elapse : 0.3252255916595459\n",
      "[2022/02/17 16:23:00] root DEBUG: cls num  : 22, elapse : 0.30365490913391113\n",
      "[2022/02/17 16:23:01] root DEBUG: rec_res num  : 22, elapse : 1.4698641300201416\n",
      "     staff_id doses\n",
      "0         Jim     3\n",
      "1    Jim_part     3\n",
      "2       Nancy     3\n",
      "3  Nancy_part     3\n",
      "4  Qinranchen     2\n"
     ]
    }
   ],
   "source": [
    "summary = []\n",
    "from pathlib import Path\n",
    "from os import listdir\n",
    "folder_dir = \"C:/Users/Jason/Desktop/PaddleOCR-release-2.4/doc/imgs/vaccination_samples/tianjin/\"\n",
    "\n",
    "#new_folder_dir = folder_dir.replace(os.sep,\"/\")\n",
    "#images = Path(new_folder_dir).glob(\"*.jpg\")\n",
    "\n",
    "for image in os.listdir(folder_dir):\n",
    "    file = glob.glob('C:/Users/Jason/Desktop/PaddleOCR-release-2.4/doc/imgs/vaccination_samples/tianjin/' + image) \n",
    "    #print(file[0])\n",
    "    result = ocr.ocr(file[0], cls=True)\n",
    "    #for line in result:\n",
    "        #print(line) \n",
    "    loca = [res[1][0] for res in result]\n",
    "    loca_dose = loca.index(\"接种针次：\")\n",
    "    \n",
    "    output = result[loca_dose+1][1][0]\n",
    "    #print(output)\n",
    "    basename = os.path.splitext(os.path.basename(file[0]))[0]\n",
    "    input = {}\n",
    "    input.update({'staff_id':basename,'doses':output})\n",
    "    summary.append(input)\n",
    "    \n",
    "df = pd.DataFrame(summary)\n",
    "print(df)"
   ]
  },
  {
   "cell_type": "code",
   "execution_count": 196,
   "id": "5fb6827a",
   "metadata": {},
   "outputs": [],
   "source": [
    "df.to_excel('summary.xlsx',index = False, sheet_name = \"summary\")"
   ]
  },
  {
   "cell_type": "code",
   "execution_count": null,
   "id": "a541539e",
   "metadata": {},
   "outputs": [],
   "source": []
  },
  {
   "cell_type": "code",
   "execution_count": null,
   "id": "001529ba",
   "metadata": {},
   "outputs": [],
   "source": []
  },
  {
   "cell_type": "code",
   "execution_count": null,
   "id": "9d6f8fd2",
   "metadata": {},
   "outputs": [],
   "source": []
  },
  {
   "cell_type": "code",
   "execution_count": null,
   "id": "1ea628e1",
   "metadata": {},
   "outputs": [],
   "source": []
  },
  {
   "cell_type": "code",
   "execution_count": null,
   "id": "7fe1ecfc",
   "metadata": {},
   "outputs": [],
   "source": []
  },
  {
   "cell_type": "code",
   "execution_count": null,
   "id": "9326c76e",
   "metadata": {},
   "outputs": [],
   "source": []
  },
  {
   "cell_type": "code",
   "execution_count": null,
   "id": "ca09bc52",
   "metadata": {},
   "outputs": [],
   "source": []
  },
  {
   "cell_type": "code",
   "execution_count": null,
   "id": "979ca21e",
   "metadata": {},
   "outputs": [],
   "source": []
  },
  {
   "cell_type": "code",
   "execution_count": null,
   "id": "93709b79",
   "metadata": {},
   "outputs": [],
   "source": []
  },
  {
   "cell_type": "code",
   "execution_count": null,
   "id": "b83e456d",
   "metadata": {},
   "outputs": [],
   "source": []
  },
  {
   "cell_type": "code",
   "execution_count": null,
   "id": "405ecbb0",
   "metadata": {},
   "outputs": [],
   "source": []
  },
  {
   "cell_type": "code",
   "execution_count": null,
   "id": "647a3bda",
   "metadata": {},
   "outputs": [],
   "source": []
  },
  {
   "cell_type": "code",
   "execution_count": null,
   "id": "19b90ca5",
   "metadata": {},
   "outputs": [],
   "source": []
  },
  {
   "cell_type": "code",
   "execution_count": null,
   "id": "4689b619",
   "metadata": {},
   "outputs": [],
   "source": []
  },
  {
   "cell_type": "code",
   "execution_count": null,
   "id": "0e661622",
   "metadata": {},
   "outputs": [],
   "source": []
  },
  {
   "cell_type": "code",
   "execution_count": null,
   "id": "79cc6aa1",
   "metadata": {},
   "outputs": [],
   "source": []
  }
 ],
 "metadata": {
  "kernelspec": {
   "display_name": "Python 3 (ipykernel)",
   "language": "python",
   "name": "python3"
  },
  "language_info": {
   "codemirror_mode": {
    "name": "ipython",
    "version": 3
   },
   "file_extension": ".py",
   "mimetype": "text/x-python",
   "name": "python",
   "nbconvert_exporter": "python",
   "pygments_lexer": "ipython3",
   "version": "3.7.11"
  }
 },
 "nbformat": 4,
 "nbformat_minor": 5
}
